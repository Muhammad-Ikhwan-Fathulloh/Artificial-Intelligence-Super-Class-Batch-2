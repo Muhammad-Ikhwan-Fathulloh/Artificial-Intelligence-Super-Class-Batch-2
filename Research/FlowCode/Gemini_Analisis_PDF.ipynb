{
  "nbformat": 4,
  "nbformat_minor": 0,
  "metadata": {
    "colab": {
      "provenance": []
    },
    "kernelspec": {
      "name": "python3",
      "display_name": "Python 3"
    },
    "language_info": {
      "name": "python"
    }
  },
  "cells": [
    {
      "cell_type": "code",
      "execution_count": 1,
      "metadata": {
        "colab": {
          "base_uri": "https://localhost:8080/"
        },
        "id": "VQQFhr-86i4Y",
        "outputId": "eccf5f1e-3637-4825-e2f9-01f10a5090ce"
      },
      "outputs": [
        {
          "output_type": "stream",
          "name": "stdout",
          "text": [
            "Collecting pymupdf\n",
            "  Downloading pymupdf-1.25.4-cp39-abi3-manylinux2014_x86_64.manylinux_2_17_x86_64.whl.metadata (3.4 kB)\n",
            "Collecting Sastrawi\n",
            "  Downloading Sastrawi-1.0.1-py2.py3-none-any.whl.metadata (909 bytes)\n",
            "Requirement already satisfied: nltk in /usr/local/lib/python3.11/dist-packages (3.9.1)\n",
            "Requirement already satisfied: scikit-learn in /usr/local/lib/python3.11/dist-packages (1.6.1)\n",
            "Requirement already satisfied: google-generativeai in /usr/local/lib/python3.11/dist-packages (0.8.4)\n",
            "Requirement already satisfied: click in /usr/local/lib/python3.11/dist-packages (from nltk) (8.1.8)\n",
            "Requirement already satisfied: joblib in /usr/local/lib/python3.11/dist-packages (from nltk) (1.4.2)\n",
            "Requirement already satisfied: regex>=2021.8.3 in /usr/local/lib/python3.11/dist-packages (from nltk) (2024.11.6)\n",
            "Requirement already satisfied: tqdm in /usr/local/lib/python3.11/dist-packages (from nltk) (4.67.1)\n",
            "Requirement already satisfied: numpy>=1.19.5 in /usr/local/lib/python3.11/dist-packages (from scikit-learn) (2.0.2)\n",
            "Requirement already satisfied: scipy>=1.6.0 in /usr/local/lib/python3.11/dist-packages (from scikit-learn) (1.14.1)\n",
            "Requirement already satisfied: threadpoolctl>=3.1.0 in /usr/local/lib/python3.11/dist-packages (from scikit-learn) (3.6.0)\n",
            "Requirement already satisfied: google-ai-generativelanguage==0.6.15 in /usr/local/lib/python3.11/dist-packages (from google-generativeai) (0.6.15)\n",
            "Requirement already satisfied: google-api-core in /usr/local/lib/python3.11/dist-packages (from google-generativeai) (2.24.2)\n",
            "Requirement already satisfied: google-api-python-client in /usr/local/lib/python3.11/dist-packages (from google-generativeai) (2.164.0)\n",
            "Requirement already satisfied: google-auth>=2.15.0 in /usr/local/lib/python3.11/dist-packages (from google-generativeai) (2.38.0)\n",
            "Requirement already satisfied: protobuf in /usr/local/lib/python3.11/dist-packages (from google-generativeai) (5.29.3)\n",
            "Requirement already satisfied: pydantic in /usr/local/lib/python3.11/dist-packages (from google-generativeai) (2.10.6)\n",
            "Requirement already satisfied: typing-extensions in /usr/local/lib/python3.11/dist-packages (from google-generativeai) (4.12.2)\n",
            "Requirement already satisfied: proto-plus<2.0.0dev,>=1.22.3 in /usr/local/lib/python3.11/dist-packages (from google-ai-generativelanguage==0.6.15->google-generativeai) (1.26.1)\n",
            "Requirement already satisfied: googleapis-common-protos<2.0.0,>=1.56.2 in /usr/local/lib/python3.11/dist-packages (from google-api-core->google-generativeai) (1.69.2)\n",
            "Requirement already satisfied: requests<3.0.0,>=2.18.0 in /usr/local/lib/python3.11/dist-packages (from google-api-core->google-generativeai) (2.32.3)\n",
            "Requirement already satisfied: cachetools<6.0,>=2.0.0 in /usr/local/lib/python3.11/dist-packages (from google-auth>=2.15.0->google-generativeai) (5.5.2)\n",
            "Requirement already satisfied: pyasn1-modules>=0.2.1 in /usr/local/lib/python3.11/dist-packages (from google-auth>=2.15.0->google-generativeai) (0.4.1)\n",
            "Requirement already satisfied: rsa<5,>=3.1.4 in /usr/local/lib/python3.11/dist-packages (from google-auth>=2.15.0->google-generativeai) (4.9)\n",
            "Requirement already satisfied: httplib2<1.dev0,>=0.19.0 in /usr/local/lib/python3.11/dist-packages (from google-api-python-client->google-generativeai) (0.22.0)\n",
            "Requirement already satisfied: google-auth-httplib2<1.0.0,>=0.2.0 in /usr/local/lib/python3.11/dist-packages (from google-api-python-client->google-generativeai) (0.2.0)\n",
            "Requirement already satisfied: uritemplate<5,>=3.0.1 in /usr/local/lib/python3.11/dist-packages (from google-api-python-client->google-generativeai) (4.1.1)\n",
            "Requirement already satisfied: annotated-types>=0.6.0 in /usr/local/lib/python3.11/dist-packages (from pydantic->google-generativeai) (0.7.0)\n",
            "Requirement already satisfied: pydantic-core==2.27.2 in /usr/local/lib/python3.11/dist-packages (from pydantic->google-generativeai) (2.27.2)\n",
            "Requirement already satisfied: grpcio<2.0dev,>=1.33.2 in /usr/local/lib/python3.11/dist-packages (from google-api-core[grpc]!=2.0.*,!=2.1.*,!=2.10.*,!=2.2.*,!=2.3.*,!=2.4.*,!=2.5.*,!=2.6.*,!=2.7.*,!=2.8.*,!=2.9.*,<3.0.0dev,>=1.34.1->google-ai-generativelanguage==0.6.15->google-generativeai) (1.71.0)\n",
            "Requirement already satisfied: grpcio-status<2.0.dev0,>=1.33.2 in /usr/local/lib/python3.11/dist-packages (from google-api-core[grpc]!=2.0.*,!=2.1.*,!=2.10.*,!=2.2.*,!=2.3.*,!=2.4.*,!=2.5.*,!=2.6.*,!=2.7.*,!=2.8.*,!=2.9.*,<3.0.0dev,>=1.34.1->google-ai-generativelanguage==0.6.15->google-generativeai) (1.71.0)\n",
            "Requirement already satisfied: pyparsing!=3.0.0,!=3.0.1,!=3.0.2,!=3.0.3,<4,>=2.4.2 in /usr/local/lib/python3.11/dist-packages (from httplib2<1.dev0,>=0.19.0->google-api-python-client->google-generativeai) (3.2.1)\n",
            "Requirement already satisfied: pyasn1<0.7.0,>=0.4.6 in /usr/local/lib/python3.11/dist-packages (from pyasn1-modules>=0.2.1->google-auth>=2.15.0->google-generativeai) (0.6.1)\n",
            "Requirement already satisfied: charset-normalizer<4,>=2 in /usr/local/lib/python3.11/dist-packages (from requests<3.0.0,>=2.18.0->google-api-core->google-generativeai) (3.4.1)\n",
            "Requirement already satisfied: idna<4,>=2.5 in /usr/local/lib/python3.11/dist-packages (from requests<3.0.0,>=2.18.0->google-api-core->google-generativeai) (3.10)\n",
            "Requirement already satisfied: urllib3<3,>=1.21.1 in /usr/local/lib/python3.11/dist-packages (from requests<3.0.0,>=2.18.0->google-api-core->google-generativeai) (2.3.0)\n",
            "Requirement already satisfied: certifi>=2017.4.17 in /usr/local/lib/python3.11/dist-packages (from requests<3.0.0,>=2.18.0->google-api-core->google-generativeai) (2025.1.31)\n",
            "Downloading pymupdf-1.25.4-cp39-abi3-manylinux2014_x86_64.manylinux_2_17_x86_64.whl (20.0 MB)\n",
            "\u001b[2K   \u001b[90m━━━━━━━━━━━━━━━━━━━━━━━━━━━━━━━━━━━━━━━━\u001b[0m \u001b[32m20.0/20.0 MB\u001b[0m \u001b[31m15.6 MB/s\u001b[0m eta \u001b[36m0:00:00\u001b[0m\n",
            "\u001b[?25hDownloading Sastrawi-1.0.1-py2.py3-none-any.whl (209 kB)\n",
            "\u001b[2K   \u001b[90m━━━━━━━━━━━━━━━━━━━━━━━━━━━━━━━━━━━━━━━━\u001b[0m \u001b[32m209.7/209.7 kB\u001b[0m \u001b[31m6.0 MB/s\u001b[0m eta \u001b[36m0:00:00\u001b[0m\n",
            "\u001b[?25hInstalling collected packages: Sastrawi, pymupdf\n",
            "Successfully installed Sastrawi-1.0.1 pymupdf-1.25.4\n"
          ]
        }
      ],
      "source": [
        "!pip install pymupdf Sastrawi nltk scikit-learn google-generativeai"
      ]
    },
    {
      "cell_type": "code",
      "source": [
        "import fitz  # PyMuPDF untuk membaca PDF\n",
        "import nltk\n",
        "from nltk.tokenize import word_tokenize\n",
        "from nltk.corpus import stopwords\n",
        "from Sastrawi.Stemmer.StemmerFactory import StemmerFactory\n",
        "from sklearn.feature_extraction.text import TfidfVectorizer\n",
        "import google.generativeai as genai\n",
        "import string\n",
        "from google.colab import files"
      ],
      "metadata": {
        "id": "0zRJRhbd6kEa"
      },
      "execution_count": 2,
      "outputs": []
    },
    {
      "cell_type": "code",
      "source": [
        "# Download stopwords untuk bahasa Indonesia\n",
        "nltk.download('stopwords')\n",
        "nltk.download('punkt')\n",
        "nltk.download('punkt_tab')\n",
        "nltk.download('wordnet')"
      ],
      "metadata": {
        "colab": {
          "base_uri": "https://localhost:8080/"
        },
        "id": "hnQmAY906m6k",
        "outputId": "69b0107b-5add-4ebf-c74a-d65ce37d855c"
      },
      "execution_count": 3,
      "outputs": [
        {
          "output_type": "stream",
          "name": "stderr",
          "text": [
            "[nltk_data] Downloading package stopwords to /root/nltk_data...\n",
            "[nltk_data]   Unzipping corpora/stopwords.zip.\n",
            "[nltk_data] Downloading package punkt to /root/nltk_data...\n",
            "[nltk_data]   Unzipping tokenizers/punkt.zip.\n",
            "[nltk_data] Downloading package punkt_tab to /root/nltk_data...\n",
            "[nltk_data]   Unzipping tokenizers/punkt_tab.zip.\n",
            "[nltk_data] Downloading package wordnet to /root/nltk_data...\n"
          ]
        },
        {
          "output_type": "execute_result",
          "data": {
            "text/plain": [
              "True"
            ]
          },
          "metadata": {},
          "execution_count": 3
        }
      ]
    },
    {
      "cell_type": "code",
      "source": [
        "# Konfigurasi API Key Gemini\n",
        "API_KEY = \"YOUR_GEMINI_API_KEY\"\n",
        "genai.configure(api_key=API_KEY)"
      ],
      "metadata": {
        "id": "_Lnjr6wr6pc9"
      },
      "execution_count": 4,
      "outputs": []
    },
    {
      "cell_type": "code",
      "source": [
        "# Fungsi untuk ekstrak teks dari PDF\n",
        "def extract_text_from_pdf(pdf_path):\n",
        "    doc = fitz.open(pdf_path)\n",
        "    text = \"\"\n",
        "    for page in doc:\n",
        "        text += page.get_text(\"text\") + \" \"\n",
        "    return text.strip()\n",
        "\n",
        "# Fungsi preprocessing teks\n",
        "def preprocess_text(text):\n",
        "    text = text.lower()\n",
        "    tokens = word_tokenize(text)\n",
        "    tokens = [word for word in tokens if word.isalnum()]\n",
        "    stop_words = set(stopwords.words(\"indonesian\"))\n",
        "    tokens = [word for word in tokens if word not in stop_words]\n",
        "\n",
        "    # Stemming menggunakan Sastrawi\n",
        "    factory = StemmerFactory()\n",
        "    stemmer = factory.create_stemmer()\n",
        "    tokens = [stemmer.stem(word) for word in tokens]\n",
        "\n",
        "    return \" \".join(tokens)\n",
        "\n",
        "# Fungsi untuk vektorisasi menggunakan TF-IDF\n",
        "def tfidf_vectorize(texts):\n",
        "    vectorizer = TfidfVectorizer()\n",
        "    tfidf_matrix = vectorizer.fit_transform(texts)\n",
        "    return tfidf_matrix, vectorizer\n",
        "\n",
        "# Fungsi untuk mendapatkan ringkasan dari Gemini API\n",
        "def summarize_text(text):\n",
        "    model = genai.GenerativeModel(\"gemini-1.5-pro\")\n",
        "    response = model.generate_content(f\"Ringkas teks berikut:\\n\\n{text}\")\n",
        "    return response.text\n",
        "\n",
        "# Fungsi untuk mendapatkan entitas utama\n",
        "def extract_entities(text):\n",
        "    model = genai.GenerativeModel(\"gemini-1.5-pro\")\n",
        "    response = model.generate_content(f\"Temukan entitas utama dalam teks ini:\\n\\n{text}\")\n",
        "    return response.text\n",
        "\n",
        "# Fungsi untuk klasifikasi dokumen\n",
        "def classify_document(text):\n",
        "    model = genai.GenerativeModel(\"gemini-1.5-pro\")\n",
        "    response = model.generate_content(f\"Klasifikasikan dokumen ini berdasarkan isi:\\n\\n{text}\")\n",
        "    return response.text"
      ],
      "metadata": {
        "id": "WoBdh_8V6rkA"
      },
      "execution_count": 5,
      "outputs": []
    },
    {
      "cell_type": "code",
      "source": [
        "# Upload file PDF ke Google Colab\n",
        "print(\"Silakan upload file PDF\")\n",
        "uploaded = files.upload()"
      ],
      "metadata": {
        "colab": {
          "base_uri": "https://localhost:8080/",
          "height": 90
        },
        "id": "tHqVHT1m6uV9",
        "outputId": "bfb8b699-a746-40d5-a1b5-6e8c036c5a17"
      },
      "execution_count": 6,
      "outputs": [
        {
          "output_type": "stream",
          "name": "stdout",
          "text": [
            "Silakan upload file PDF\n"
          ]
        },
        {
          "output_type": "display_data",
          "data": {
            "text/plain": [
              "<IPython.core.display.HTML object>"
            ],
            "text/html": [
              "\n",
              "     <input type=\"file\" id=\"files-af3148dc-dfb8-4ef3-9647-de86adbe5d90\" name=\"files[]\" multiple disabled\n",
              "        style=\"border:none\" />\n",
              "     <output id=\"result-af3148dc-dfb8-4ef3-9647-de86adbe5d90\">\n",
              "      Upload widget is only available when the cell has been executed in the\n",
              "      current browser session. Please rerun this cell to enable.\n",
              "      </output>\n",
              "      <script>// Copyright 2017 Google LLC\n",
              "//\n",
              "// Licensed under the Apache License, Version 2.0 (the \"License\");\n",
              "// you may not use this file except in compliance with the License.\n",
              "// You may obtain a copy of the License at\n",
              "//\n",
              "//      http://www.apache.org/licenses/LICENSE-2.0\n",
              "//\n",
              "// Unless required by applicable law or agreed to in writing, software\n",
              "// distributed under the License is distributed on an \"AS IS\" BASIS,\n",
              "// WITHOUT WARRANTIES OR CONDITIONS OF ANY KIND, either express or implied.\n",
              "// See the License for the specific language governing permissions and\n",
              "// limitations under the License.\n",
              "\n",
              "/**\n",
              " * @fileoverview Helpers for google.colab Python module.\n",
              " */\n",
              "(function(scope) {\n",
              "function span(text, styleAttributes = {}) {\n",
              "  const element = document.createElement('span');\n",
              "  element.textContent = text;\n",
              "  for (const key of Object.keys(styleAttributes)) {\n",
              "    element.style[key] = styleAttributes[key];\n",
              "  }\n",
              "  return element;\n",
              "}\n",
              "\n",
              "// Max number of bytes which will be uploaded at a time.\n",
              "const MAX_PAYLOAD_SIZE = 100 * 1024;\n",
              "\n",
              "function _uploadFiles(inputId, outputId) {\n",
              "  const steps = uploadFilesStep(inputId, outputId);\n",
              "  const outputElement = document.getElementById(outputId);\n",
              "  // Cache steps on the outputElement to make it available for the next call\n",
              "  // to uploadFilesContinue from Python.\n",
              "  outputElement.steps = steps;\n",
              "\n",
              "  return _uploadFilesContinue(outputId);\n",
              "}\n",
              "\n",
              "// This is roughly an async generator (not supported in the browser yet),\n",
              "// where there are multiple asynchronous steps and the Python side is going\n",
              "// to poll for completion of each step.\n",
              "// This uses a Promise to block the python side on completion of each step,\n",
              "// then passes the result of the previous step as the input to the next step.\n",
              "function _uploadFilesContinue(outputId) {\n",
              "  const outputElement = document.getElementById(outputId);\n",
              "  const steps = outputElement.steps;\n",
              "\n",
              "  const next = steps.next(outputElement.lastPromiseValue);\n",
              "  return Promise.resolve(next.value.promise).then((value) => {\n",
              "    // Cache the last promise value to make it available to the next\n",
              "    // step of the generator.\n",
              "    outputElement.lastPromiseValue = value;\n",
              "    return next.value.response;\n",
              "  });\n",
              "}\n",
              "\n",
              "/**\n",
              " * Generator function which is called between each async step of the upload\n",
              " * process.\n",
              " * @param {string} inputId Element ID of the input file picker element.\n",
              " * @param {string} outputId Element ID of the output display.\n",
              " * @return {!Iterable<!Object>} Iterable of next steps.\n",
              " */\n",
              "function* uploadFilesStep(inputId, outputId) {\n",
              "  const inputElement = document.getElementById(inputId);\n",
              "  inputElement.disabled = false;\n",
              "\n",
              "  const outputElement = document.getElementById(outputId);\n",
              "  outputElement.innerHTML = '';\n",
              "\n",
              "  const pickedPromise = new Promise((resolve) => {\n",
              "    inputElement.addEventListener('change', (e) => {\n",
              "      resolve(e.target.files);\n",
              "    });\n",
              "  });\n",
              "\n",
              "  const cancel = document.createElement('button');\n",
              "  inputElement.parentElement.appendChild(cancel);\n",
              "  cancel.textContent = 'Cancel upload';\n",
              "  const cancelPromise = new Promise((resolve) => {\n",
              "    cancel.onclick = () => {\n",
              "      resolve(null);\n",
              "    };\n",
              "  });\n",
              "\n",
              "  // Wait for the user to pick the files.\n",
              "  const files = yield {\n",
              "    promise: Promise.race([pickedPromise, cancelPromise]),\n",
              "    response: {\n",
              "      action: 'starting',\n",
              "    }\n",
              "  };\n",
              "\n",
              "  cancel.remove();\n",
              "\n",
              "  // Disable the input element since further picks are not allowed.\n",
              "  inputElement.disabled = true;\n",
              "\n",
              "  if (!files) {\n",
              "    return {\n",
              "      response: {\n",
              "        action: 'complete',\n",
              "      }\n",
              "    };\n",
              "  }\n",
              "\n",
              "  for (const file of files) {\n",
              "    const li = document.createElement('li');\n",
              "    li.append(span(file.name, {fontWeight: 'bold'}));\n",
              "    li.append(span(\n",
              "        `(${file.type || 'n/a'}) - ${file.size} bytes, ` +\n",
              "        `last modified: ${\n",
              "            file.lastModifiedDate ? file.lastModifiedDate.toLocaleDateString() :\n",
              "                                    'n/a'} - `));\n",
              "    const percent = span('0% done');\n",
              "    li.appendChild(percent);\n",
              "\n",
              "    outputElement.appendChild(li);\n",
              "\n",
              "    const fileDataPromise = new Promise((resolve) => {\n",
              "      const reader = new FileReader();\n",
              "      reader.onload = (e) => {\n",
              "        resolve(e.target.result);\n",
              "      };\n",
              "      reader.readAsArrayBuffer(file);\n",
              "    });\n",
              "    // Wait for the data to be ready.\n",
              "    let fileData = yield {\n",
              "      promise: fileDataPromise,\n",
              "      response: {\n",
              "        action: 'continue',\n",
              "      }\n",
              "    };\n",
              "\n",
              "    // Use a chunked sending to avoid message size limits. See b/62115660.\n",
              "    let position = 0;\n",
              "    do {\n",
              "      const length = Math.min(fileData.byteLength - position, MAX_PAYLOAD_SIZE);\n",
              "      const chunk = new Uint8Array(fileData, position, length);\n",
              "      position += length;\n",
              "\n",
              "      const base64 = btoa(String.fromCharCode.apply(null, chunk));\n",
              "      yield {\n",
              "        response: {\n",
              "          action: 'append',\n",
              "          file: file.name,\n",
              "          data: base64,\n",
              "        },\n",
              "      };\n",
              "\n",
              "      let percentDone = fileData.byteLength === 0 ?\n",
              "          100 :\n",
              "          Math.round((position / fileData.byteLength) * 100);\n",
              "      percent.textContent = `${percentDone}% done`;\n",
              "\n",
              "    } while (position < fileData.byteLength);\n",
              "  }\n",
              "\n",
              "  // All done.\n",
              "  yield {\n",
              "    response: {\n",
              "      action: 'complete',\n",
              "    }\n",
              "  };\n",
              "}\n",
              "\n",
              "scope.google = scope.google || {};\n",
              "scope.google.colab = scope.google.colab || {};\n",
              "scope.google.colab._files = {\n",
              "  _uploadFiles,\n",
              "  _uploadFilesContinue,\n",
              "};\n",
              "})(self);\n",
              "</script> "
            ]
          },
          "metadata": {}
        },
        {
          "output_type": "stream",
          "name": "stdout",
          "text": [
            "Saving TOR Alkademi Talks Maret 2025.pdf to TOR Alkademi Talks Maret 2025.pdf\n"
          ]
        }
      ]
    },
    {
      "cell_type": "code",
      "source": [
        "# Proses file PDF yang diunggah\n",
        "pdf_texts = []\n",
        "summaries = []\n",
        "entities = []\n",
        "categories = []"
      ],
      "metadata": {
        "id": "DUJ_oIUH6wx1"
      },
      "execution_count": 7,
      "outputs": []
    },
    {
      "cell_type": "code",
      "source": [
        "for filename in uploaded.keys():\n",
        "    print(f\"Memproses: {filename}\")\n",
        "    text = extract_text_from_pdf(filename)\n",
        "    processed_text = preprocess_text(text)\n",
        "    pdf_texts.append(processed_text)\n",
        "\n",
        "    # Menggunakan Gemini untuk analisis lanjutan\n",
        "    summary = summarize_text(text)\n",
        "    entity_info = extract_entities(text)\n",
        "    category = classify_document(text)\n",
        "\n",
        "    summaries.append(summary)\n",
        "    entities.append(entity_info)\n",
        "    categories.append(category)\n",
        "\n",
        "# Representasi teks dalam bentuk TF-IDF\n",
        "tfidf_matrix, vectorizer = tfidf_vectorize(pdf_texts)"
      ],
      "metadata": {
        "colab": {
          "base_uri": "https://localhost:8080/",
          "height": 34
        },
        "id": "z_Hm2MKL62E3",
        "outputId": "47880be5-cdc8-45c8-c429-44dddc58d0e0"
      },
      "execution_count": 8,
      "outputs": [
        {
          "output_type": "stream",
          "name": "stdout",
          "text": [
            "Memproses: TOR Alkademi Talks Maret 2025.pdf\n"
          ]
        }
      ]
    },
    {
      "cell_type": "code",
      "source": [
        "# Menampilkan hasil TF-IDF\n",
        "print(\"\\nTF-IDF Representation (Array):\")\n",
        "print(tfidf_matrix.toarray())\n",
        "\n",
        "# Menampilkan kata-kata fitur yang dipilih oleh TF-IDF\n",
        "print(\"\\nFeature Names:\")\n",
        "print(vectorizer.get_feature_names_out())\n",
        "\n",
        "# Menampilkan hasil analisis Gemini\n",
        "for i, filename in enumerate(uploaded.keys()):\n",
        "    print(f\"\\n📄 **Analisis untuk {filename}:**\")\n",
        "    print(f\"🔹 **Ringkasan:** {summaries[i]}\")\n",
        "    print(f\"🔹 **Entitas Utama:** {entities[i]}\")\n",
        "    print(f\"🔹 **Kategori Dokumen:** {categories[i]}\")"
      ],
      "metadata": {
        "colab": {
          "base_uri": "https://localhost:8080/"
        },
        "id": "KMO-cgYP62t_",
        "outputId": "30a2a4d9-95c4-4b4b-f4dd-6cc317969fd9"
      },
      "execution_count": 9,
      "outputs": [
        {
          "output_type": "stream",
          "name": "stdout",
          "text": [
            "\n",
            "TF-IDF Representation (Array):\n",
            "[[0.03123475 0.03123475 0.03123475 0.40605178 0.03123475 0.03123475\n",
            "  0.03123475 0.03123475 0.03123475 0.03123475 0.03123475 0.03123475\n",
            "  0.0624695  0.03123475 0.53099079 0.03123475 0.03123475 0.43728653\n",
            "  0.03123475 0.03123475 0.03123475 0.03123475 0.03123475 0.0624695\n",
            "  0.0624695  0.03123475 0.03123475 0.0624695  0.03123475 0.03123475\n",
            "  0.03123475 0.03123475 0.03123475 0.0624695  0.03123475 0.03123475\n",
            "  0.03123475 0.0624695  0.03123475 0.03123475 0.0624695  0.03123475\n",
            "  0.03123475 0.03123475 0.03123475 0.03123475 0.03123475 0.03123475\n",
            "  0.03123475 0.03123475 0.03123475 0.03123475 0.03123475 0.03123475\n",
            "  0.03123475 0.03123475 0.03123475 0.0624695  0.09370426 0.03123475\n",
            "  0.03123475 0.03123475 0.03123475 0.03123475 0.03123475 0.03123475\n",
            "  0.03123475 0.03123475 0.0624695  0.03123475 0.03123475 0.03123475\n",
            "  0.03123475 0.03123475 0.03123475 0.03123475 0.03123475 0.03123475\n",
            "  0.03123475 0.03123475 0.09370426 0.03123475 0.03123475 0.03123475\n",
            "  0.03123475 0.03123475 0.03123475 0.03123475 0.03123475 0.03123475\n",
            "  0.03123475 0.09370426 0.0624695  0.03123475 0.03123475 0.03123475\n",
            "  0.03123475 0.03123475 0.0624695  0.03123475 0.03123475 0.03123475\n",
            "  0.03123475 0.12493901 0.03123475 0.03123475 0.15617376 0.03123475\n",
            "  0.03123475 0.03123475 0.03123475 0.03123475 0.03123475 0.03123475\n",
            "  0.03123475 0.03123475 0.03123475 0.09370426 0.03123475 0.03123475\n",
            "  0.03123475 0.03123475 0.03123475 0.03123475 0.03123475 0.03123475\n",
            "  0.03123475 0.03123475 0.03123475 0.03123475 0.03123475 0.03123475\n",
            "  0.03123475 0.03123475 0.03123475 0.0624695  0.03123475 0.03123475\n",
            "  0.03123475 0.0624695  0.18740851 0.03123475 0.03123475 0.03123475\n",
            "  0.03123475 0.0624695  0.03123475 0.0624695  0.09370426 0.03123475\n",
            "  0.03123475 0.09370426 0.0624695  0.03123475 0.03123475 0.09370426\n",
            "  0.03123475 0.09370426 0.12493901 0.0624695  0.03123475 0.0624695\n",
            "  0.03123475 0.03123475 0.03123475 0.03123475 0.03123475]]\n",
            "\n",
            "Feature Names:\n",
            "['12' '15' '19' '2025' '20450511' '22' '25' '30' '40123' 'acara' 'action'\n",
            " 'adaptasi' 'address' 'adopsi' 'ai' 'ajar' 'alf' 'alkademi' 'architecting'\n",
            " 'atas' 'audiens' 'bahas' 'baik' 'bandung' 'bangun' 'bantu' 'barat' 'bas'\n",
            " 'batas' 'bidang' 'bingung' 'buka' 'business' 'call' 'cibeunying' 'city'\n",
            " 'cloud' 'coding' 'content' 'creator' 'cto' 'dalam' 'dampak' 'dana' 'daya'\n",
            " 'dev' 'development' 'didik' 'digital' 'diskusi' 'dominating' 'dukung'\n",
            " 'dunia' 'durasi' 'edukasi' 'email' 'empowering' 'engineer' 'engineering'\n",
            " 'era' 'expert' 'forum' 'fresh' 'galih' 'giat' 'google' 'graduates'\n",
            " 'grassroot' 'guide' 'hadap' 'hadir' 'hello' 'hidayatullah' 'hidup'\n",
            " 'hubung' 'implementasi' 'imre' 'in' 'individu' 'indonesia' 'industri'\n",
            " 'informatika' 'initiative' 'institusi' 'jawa' 'jembatan' 'jl' 'junior'\n",
            " 'kaler' 'karier' 'kec' 'kembang' 'kerja' 'komunitas' 'kota' 'lanskap'\n",
            " 'latar' 'level' 'literasi' 'lunak' 'mahasiswa' 'manfaat' 'march' 'maret'\n",
            " 'markas' 'media' 'menit' 'middle' 'moderator' 'movement' 'muncul' 'nagi'\n",
            " 'narasumber' 'norman' 'nyata' 'of' 'organisasi' 'paham' 'partner'\n",
            " 'peluang' 'perangkat' 'praktik' 'praktisi' 'publikasi' 'reference'\n",
            " 'regulasi' 'revolution' 'ruang' 'saing' 'sambut' 'sandhika' 'sasono'\n",
            " 'selesai' 'senjang' 'serta' 'sesi' 'sidomukti' 'sistem' 'siswa' 'smk'\n",
            " 'software' 'sosial' 'studi' 'sukaluyu' 'susun' 'talent' 'talk' 'talks'\n",
            " 'tantang' 'target' 'tarik' 'teknologi' 'terampil' 'term' 'thank' 'the'\n",
            " 'tingkat' 'to' 'topics' 'tuju' 'tutup' 'ubah' 'us' 'utama' 'wib'\n",
            " 'workflow' 'you']\n",
            "\n",
            "📄 **Analisis untuk TOR Alkademi Talks Maret 2025.pdf:**\n",
            "🔹 **Ringkasan:** Alkademi Talks: The Software Engineer’s Guide to AI adalah forum diskusi dan edukasi tentang AI untuk mengatasi kesenjangan literasi AI. Acara ini bertujuan memberikan pemahaman tentang dampak AI terhadap software engineering, mengajarkan praktik terbaik pengembangan perangkat lunak berbasis AI, menjelaskan tantangan implementasinya, dan mempersiapkan peserta untuk peluang karir di bidang ini. Target audiensnya adalah siswa SMK, mahasiswa, fresh graduate, dan profesional di bidang teknologi.  Acara ini akan diisi oleh pembicara ahli seperti Alfan Hidayatullah (CTO Alkademi), Imre Nagi (CTO DANA), Norman Sasono (Google Cloud Dev Expert), dan Sandhika Galih (Content Creator Teknologi) dengan topik seputar revolusi AI, pemberdayaan AI, arsitektur AI, dan penguasaan AI.  Acara berlangsung pada 6, 12, 19, dan 25 Maret 2025 pukul 12.00-13.00 WIB.  Informasi lebih lanjut dapat menghubungi hello@alkademi.id atau +62 22 20450511.\n",
            "\n",
            "🔹 **Entitas Utama:** Entitas utama dalam teks ini adalah **Alkademi Talks: The Software Engineer’s Guide to AI**, sebuah acara yang diselenggarakan oleh **Alkademi 2025**.\n",
            "\n",
            "Entitas lain yang relevan termasuk:\n",
            "\n",
            "* **ALKADEMI**:  Organisasi penyelenggara acara, kemungkinan sebuah inisiatif atau program.  Mereka juga memiliki media sosial dengan nama yang sama.\n",
            "* **SMK Coding Markas Bandung**:  Partner komunitas/universitas.\n",
            "* **Business Initiative Movement**:  Partner komunitas/universitas, kemungkinan afiliasi dengan ALKADEMI.\n",
            "* **Narasumber/Pembicara**:\n",
            "    * **Alfan Hidayatullah (CTO Alkademi)**\n",
            "    * **Imre Nagi (CTO DANA)**\n",
            "    * **Norman Sasono (Cloud Google Dev Expert)**\n",
            "    * **Sandhika Galih (Content Creator Teknologi)**\n",
            "* **Target Audiens**: Siswa SMK, Mahasiswa, Fresh Graduates, Junior & Middle Talent di bidang teknologi.\n",
            "\n",
            "\n",
            "Topik-topik yang dibahas dalam acara ini berkisar seputar AI dan software engineering, seperti \"AI Revolution\", \"Empowering AI\", \"Architecting AI\", dan \"Dominating AI\".\n",
            "\n",
            "🔹 **Kategori Dokumen:** Dokumen ini dapat diklasifikasikan sebagai **Term of Reference (TOR)** atau **Kerangka Acuan** untuk sebuah acara seminar/webinar/talkshow online atau offline yang berfokus pada pengenalan dan penerapan *Artificial Intelligence* (AI) dalam *Software Engineering*.  Lebih spesifik lagi, dokumen ini menjelaskan rencana penyelenggaraan \"Alkademi Talks: The Software Engineer’s Guide to AI\".\n",
            "\n",
            "Alasan klasifikasi ini didasarkan pada beberapa elemen kunci yang ada dalam dokumen:\n",
            "\n",
            "* **Latar Belakang:** Menjelaskan konteks dan alasan di balik penyelenggaraan acara.\n",
            "* **Tujuan:**  Menjabarkan hasil yang ingin dicapai melalui acara tersebut.\n",
            "* **Target Audiens:** Mengidentifikasi kelompok yang dituju oleh acara.\n",
            "* **Susunan Acara:**  Merinci jadwal dan kegiatan yang akan berlangsung.\n",
            "* **Narasumber:**  Mencantumkan pembicara yang akan mengisi acara.\n",
            "* **Topik:**  Memberikan gambaran umum materi yang akan dibahas.\n",
            "* **Informasi Kontak:** Menyertakan detail kontak penyelenggara.\n",
            "\n",
            "Semua elemen ini merupakan komponen standar dari sebuah TOR yang bertujuan untuk memberikan gambaran komprehensif tentang suatu acara atau proyek.\n",
            "\n"
          ]
        }
      ]
    }
  ]
}