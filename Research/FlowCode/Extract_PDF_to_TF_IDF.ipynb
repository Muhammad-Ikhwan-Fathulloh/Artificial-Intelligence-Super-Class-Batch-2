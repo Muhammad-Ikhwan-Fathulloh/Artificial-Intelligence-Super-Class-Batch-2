{
  "cells": [
    {
      "cell_type": "code",
      "execution_count": 15,
      "metadata": {
        "colab": {
          "base_uri": "https://localhost:8080/"
        },
        "id": "OsDdpydU5r0B",
        "outputId": "2766bdca-f573-4673-dc48-c9f6a9560ad6"
      },
      "outputs": [
        {
          "name": "stdout",
          "output_type": "stream",
          "text": [
            "Requirement already satisfied: pymupdf in /usr/local/lib/python3.11/dist-packages (1.25.4)\n",
            "Requirement already satisfied: Sastrawi in /usr/local/lib/python3.11/dist-packages (1.0.1)\n",
            "Requirement already satisfied: nltk in /usr/local/lib/python3.11/dist-packages (3.9.1)\n",
            "Requirement already satisfied: scikit-learn in /usr/local/lib/python3.11/dist-packages (1.6.1)\n",
            "Requirement already satisfied: click in /usr/local/lib/python3.11/dist-packages (from nltk) (8.1.8)\n",
            "Requirement already satisfied: joblib in /usr/local/lib/python3.11/dist-packages (from nltk) (1.4.2)\n",
            "Requirement already satisfied: regex>=2021.8.3 in /usr/local/lib/python3.11/dist-packages (from nltk) (2024.11.6)\n",
            "Requirement already satisfied: tqdm in /usr/local/lib/python3.11/dist-packages (from nltk) (4.67.1)\n",
            "Requirement already satisfied: numpy>=1.19.5 in /usr/local/lib/python3.11/dist-packages (from scikit-learn) (2.0.2)\n",
            "Requirement already satisfied: scipy>=1.6.0 in /usr/local/lib/python3.11/dist-packages (from scikit-learn) (1.14.1)\n",
            "Requirement already satisfied: threadpoolctl>=3.1.0 in /usr/local/lib/python3.11/dist-packages (from scikit-learn) (3.6.0)\n"
          ]
        }
      ],
      "source": [
        "!pip install pymupdf Sastrawi nltk scikit-learn"
      ]
    },
    {
      "cell_type": "code",
      "execution_count": 16,
      "metadata": {
        "id": "9IdUp-sb5vZo"
      },
      "outputs": [],
      "source": [
        "import fitz  # PyMuPDF untuk membaca PDF\n",
        "import nltk\n",
        "from nltk.tokenize import word_tokenize\n",
        "from nltk.corpus import stopwords\n",
        "from Sastrawi.Stemmer.StemmerFactory import StemmerFactory\n",
        "from sklearn.feature_extraction.text import TfidfVectorizer\n",
        "import string\n",
        "from google.colab import files"
      ]
    },
    {
      "cell_type": "code",
      "execution_count": 17,
      "metadata": {
        "colab": {
          "base_uri": "https://localhost:8080/"
        },
        "id": "D_wqnkYo5zTl",
        "outputId": "439e731a-e2bc-4715-bd9d-dbfaa5e11edb"
      },
      "outputs": [
        {
          "name": "stderr",
          "output_type": "stream",
          "text": [
            "[nltk_data] Downloading package stopwords to /root/nltk_data...\n",
            "[nltk_data]   Package stopwords is already up-to-date!\n",
            "[nltk_data] Downloading package punkt to /root/nltk_data...\n",
            "[nltk_data]   Package punkt is already up-to-date!\n",
            "[nltk_data] Downloading package punkt_tab to /root/nltk_data...\n",
            "[nltk_data]   Package punkt_tab is already up-to-date!\n",
            "[nltk_data] Downloading package wordnet to /root/nltk_data...\n",
            "[nltk_data]   Package wordnet is already up-to-date!\n"
          ]
        },
        {
          "data": {
            "text/plain": [
              "True"
            ]
          },
          "execution_count": 17,
          "metadata": {},
          "output_type": "execute_result"
        }
      ],
      "source": [
        "# Download stopwords untuk bahasa Indonesia\n",
        "nltk.download('stopwords')\n",
        "nltk.download('punkt')\n",
        "nltk.download('punkt_tab')\n",
        "nltk.download('wordnet')"
      ]
    },
    {
      "cell_type": "code",
      "execution_count": 18,
      "metadata": {
        "id": "aWQ3s4nW53Q4"
      },
      "outputs": [],
      "source": [
        "# Fungsi untuk ekstrak teks dari PDF\n",
        "def extract_text_from_pdf(pdf_path):\n",
        "    doc = fitz.open(pdf_path)\n",
        "    text = \"\"\n",
        "    for page in doc:\n",
        "        text += page.get_text(\"text\") + \" \"\n",
        "    return text.strip()\n",
        "\n",
        "# Fungsi preprocessing teks\n",
        "def preprocess_text(text):\n",
        "    # Case folding: Mengubah teks menjadi huruf kecil\n",
        "    text = text.lower()\n",
        "\n",
        "    # Tokenisasi\n",
        "    tokens = word_tokenize(text)\n",
        "\n",
        "    # Menghapus tanda baca\n",
        "    tokens = [word for word in tokens if word.isalnum()]\n",
        "\n",
        "    # Menghapus stopwords\n",
        "    stop_words = set(stopwords.words(\"indonesian\"))\n",
        "    tokens = [word for word in tokens if word not in stop_words]\n",
        "\n",
        "    # Stemming menggunakan Sastrawi\n",
        "    factory = StemmerFactory()\n",
        "    stemmer = factory.create_stemmer()\n",
        "    tokens = [stemmer.stem(word) for word in tokens]\n",
        "\n",
        "    return \" \".join(tokens)\n",
        "\n",
        "# Fungsi untuk vektorisasi menggunakan TF-IDF\n",
        "def tfidf_vectorize(texts):\n",
        "    vectorizer = TfidfVectorizer()\n",
        "    tfidf_matrix = vectorizer.fit_transform(texts)\n",
        "    return tfidf_matrix, vectorizer"
      ]
    },
    {
      "cell_type": "code",
      "execution_count": 19,
      "metadata": {
        "colab": {
          "base_uri": "https://localhost:8080/",
          "height": 108
        },
        "id": "2hpOFl3a57og",
        "outputId": "b50135ad-8501-4147-ac00-3ead21cc0226"
      },
      "outputs": [
        {
          "name": "stdout",
          "output_type": "stream",
          "text": [
            "Silakan upload file PDF\n"
          ]
        },
        {
          "data": {
            "text/html": [
              "\n",
              "     <input type=\"file\" id=\"files-1c936ead-cf87-4fa7-a2b2-e3091729b73e\" name=\"files[]\" multiple disabled\n",
              "        style=\"border:none\" />\n",
              "     <output id=\"result-1c936ead-cf87-4fa7-a2b2-e3091729b73e\">\n",
              "      Upload widget is only available when the cell has been executed in the\n",
              "      current browser session. Please rerun this cell to enable.\n",
              "      </output>\n",
              "      <script>// Copyright 2017 Google LLC\n",
              "//\n",
              "// Licensed under the Apache License, Version 2.0 (the \"License\");\n",
              "// you may not use this file except in compliance with the License.\n",
              "// You may obtain a copy of the License at\n",
              "//\n",
              "//      http://www.apache.org/licenses/LICENSE-2.0\n",
              "//\n",
              "// Unless required by applicable law or agreed to in writing, software\n",
              "// distributed under the License is distributed on an \"AS IS\" BASIS,\n",
              "// WITHOUT WARRANTIES OR CONDITIONS OF ANY KIND, either express or implied.\n",
              "// See the License for the specific language governing permissions and\n",
              "// limitations under the License.\n",
              "\n",
              "/**\n",
              " * @fileoverview Helpers for google.colab Python module.\n",
              " */\n",
              "(function(scope) {\n",
              "function span(text, styleAttributes = {}) {\n",
              "  const element = document.createElement('span');\n",
              "  element.textContent = text;\n",
              "  for (const key of Object.keys(styleAttributes)) {\n",
              "    element.style[key] = styleAttributes[key];\n",
              "  }\n",
              "  return element;\n",
              "}\n",
              "\n",
              "// Max number of bytes which will be uploaded at a time.\n",
              "const MAX_PAYLOAD_SIZE = 100 * 1024;\n",
              "\n",
              "function _uploadFiles(inputId, outputId) {\n",
              "  const steps = uploadFilesStep(inputId, outputId);\n",
              "  const outputElement = document.getElementById(outputId);\n",
              "  // Cache steps on the outputElement to make it available for the next call\n",
              "  // to uploadFilesContinue from Python.\n",
              "  outputElement.steps = steps;\n",
              "\n",
              "  return _uploadFilesContinue(outputId);\n",
              "}\n",
              "\n",
              "// This is roughly an async generator (not supported in the browser yet),\n",
              "// where there are multiple asynchronous steps and the Python side is going\n",
              "// to poll for completion of each step.\n",
              "// This uses a Promise to block the python side on completion of each step,\n",
              "// then passes the result of the previous step as the input to the next step.\n",
              "function _uploadFilesContinue(outputId) {\n",
              "  const outputElement = document.getElementById(outputId);\n",
              "  const steps = outputElement.steps;\n",
              "\n",
              "  const next = steps.next(outputElement.lastPromiseValue);\n",
              "  return Promise.resolve(next.value.promise).then((value) => {\n",
              "    // Cache the last promise value to make it available to the next\n",
              "    // step of the generator.\n",
              "    outputElement.lastPromiseValue = value;\n",
              "    return next.value.response;\n",
              "  });\n",
              "}\n",
              "\n",
              "/**\n",
              " * Generator function which is called between each async step of the upload\n",
              " * process.\n",
              " * @param {string} inputId Element ID of the input file picker element.\n",
              " * @param {string} outputId Element ID of the output display.\n",
              " * @return {!Iterable<!Object>} Iterable of next steps.\n",
              " */\n",
              "function* uploadFilesStep(inputId, outputId) {\n",
              "  const inputElement = document.getElementById(inputId);\n",
              "  inputElement.disabled = false;\n",
              "\n",
              "  const outputElement = document.getElementById(outputId);\n",
              "  outputElement.innerHTML = '';\n",
              "\n",
              "  const pickedPromise = new Promise((resolve) => {\n",
              "    inputElement.addEventListener('change', (e) => {\n",
              "      resolve(e.target.files);\n",
              "    });\n",
              "  });\n",
              "\n",
              "  const cancel = document.createElement('button');\n",
              "  inputElement.parentElement.appendChild(cancel);\n",
              "  cancel.textContent = 'Cancel upload';\n",
              "  const cancelPromise = new Promise((resolve) => {\n",
              "    cancel.onclick = () => {\n",
              "      resolve(null);\n",
              "    };\n",
              "  });\n",
              "\n",
              "  // Wait for the user to pick the files.\n",
              "  const files = yield {\n",
              "    promise: Promise.race([pickedPromise, cancelPromise]),\n",
              "    response: {\n",
              "      action: 'starting',\n",
              "    }\n",
              "  };\n",
              "\n",
              "  cancel.remove();\n",
              "\n",
              "  // Disable the input element since further picks are not allowed.\n",
              "  inputElement.disabled = true;\n",
              "\n",
              "  if (!files) {\n",
              "    return {\n",
              "      response: {\n",
              "        action: 'complete',\n",
              "      }\n",
              "    };\n",
              "  }\n",
              "\n",
              "  for (const file of files) {\n",
              "    const li = document.createElement('li');\n",
              "    li.append(span(file.name, {fontWeight: 'bold'}));\n",
              "    li.append(span(\n",
              "        `(${file.type || 'n/a'}) - ${file.size} bytes, ` +\n",
              "        `last modified: ${\n",
              "            file.lastModifiedDate ? file.lastModifiedDate.toLocaleDateString() :\n",
              "                                    'n/a'} - `));\n",
              "    const percent = span('0% done');\n",
              "    li.appendChild(percent);\n",
              "\n",
              "    outputElement.appendChild(li);\n",
              "\n",
              "    const fileDataPromise = new Promise((resolve) => {\n",
              "      const reader = new FileReader();\n",
              "      reader.onload = (e) => {\n",
              "        resolve(e.target.result);\n",
              "      };\n",
              "      reader.readAsArrayBuffer(file);\n",
              "    });\n",
              "    // Wait for the data to be ready.\n",
              "    let fileData = yield {\n",
              "      promise: fileDataPromise,\n",
              "      response: {\n",
              "        action: 'continue',\n",
              "      }\n",
              "    };\n",
              "\n",
              "    // Use a chunked sending to avoid message size limits. See b/62115660.\n",
              "    let position = 0;\n",
              "    do {\n",
              "      const length = Math.min(fileData.byteLength - position, MAX_PAYLOAD_SIZE);\n",
              "      const chunk = new Uint8Array(fileData, position, length);\n",
              "      position += length;\n",
              "\n",
              "      const base64 = btoa(String.fromCharCode.apply(null, chunk));\n",
              "      yield {\n",
              "        response: {\n",
              "          action: 'append',\n",
              "          file: file.name,\n",
              "          data: base64,\n",
              "        },\n",
              "      };\n",
              "\n",
              "      let percentDone = fileData.byteLength === 0 ?\n",
              "          100 :\n",
              "          Math.round((position / fileData.byteLength) * 100);\n",
              "      percent.textContent = `${percentDone}% done`;\n",
              "\n",
              "    } while (position < fileData.byteLength);\n",
              "  }\n",
              "\n",
              "  // All done.\n",
              "  yield {\n",
              "    response: {\n",
              "      action: 'complete',\n",
              "    }\n",
              "  };\n",
              "}\n",
              "\n",
              "scope.google = scope.google || {};\n",
              "scope.google.colab = scope.google.colab || {};\n",
              "scope.google.colab._files = {\n",
              "  _uploadFiles,\n",
              "  _uploadFilesContinue,\n",
              "};\n",
              "})(self);\n",
              "</script> "
            ],
            "text/plain": [
              "<IPython.core.display.HTML object>"
            ]
          },
          "metadata": {},
          "output_type": "display_data"
        },
        {
          "name": "stdout",
          "output_type": "stream",
          "text": [
            "Saving TensorFlow vs PyTorch Mana yang Lebih Baik untuk AI & Machine Learning.pdf to TensorFlow vs PyTorch Mana yang Lebih Baik untuk AI & Machine Learning.pdf\n",
            "Memproses: TensorFlow vs PyTorch Mana yang Lebih Baik untuk AI & Machine Learning.pdf\n"
          ]
        }
      ],
      "source": [
        "# Upload file PDF ke Google Colab\n",
        "print(\"Silakan upload file PDF\")\n",
        "uploaded = files.upload()\n",
        "\n",
        "# Proses file PDF yang diunggah\n",
        "pdf_texts = []\n",
        "for filename in uploaded.keys():\n",
        "    print(f\"Memproses: {filename}\")\n",
        "    text = extract_text_from_pdf(filename)\n",
        "    processed_text = preprocess_text(text)\n",
        "    pdf_texts.append(processed_text)"
      ]
    },
    {
      "cell_type": "code",
      "execution_count": 20,
      "metadata": {
        "id": "4L7cgb_36Bvm"
      },
      "outputs": [],
      "source": [
        "# Representasi teks dalam bentuk TF-IDF\n",
        "tfidf_matrix, vectorizer = tfidf_vectorize(pdf_texts)"
      ]
    },
    {
      "cell_type": "code",
      "execution_count": 21,
      "metadata": {
        "colab": {
          "base_uri": "https://localhost:8080/"
        },
        "id": "AcJQh5XJ6C_7",
        "outputId": "6acebf6a-de5a-437e-a89c-18347877660f"
      },
      "outputs": [
        {
          "name": "stdout",
          "output_type": "stream",
          "text": [
            "\n",
            "TF-IDF Representation (Array):\n",
            "[[0.20526182 0.05864624 0.02932312 0.02932312 0.02932312 0.02932312\n",
            "  0.02932312 0.02932312 0.08796935 0.14661559 0.02932312 0.02932312\n",
            "  0.02932312 0.02932312 0.05864624 0.02932312 0.11729247 0.02932312\n",
            "  0.14661559 0.05864624 0.05864624 0.02932312 0.08796935 0.05864624\n",
            "  0.11729247 0.23458494 0.08796935 0.02932312 0.02932312 0.08796935\n",
            "  0.02932312 0.02932312 0.05864624 0.08796935 0.08796935 0.02932312\n",
            "  0.02932312 0.20526182 0.02932312 0.02932312 0.02932312 0.02932312\n",
            "  0.20526182 0.05864624 0.02932312 0.02932312 0.02932312 0.02932312\n",
            "  0.05864624 0.02932312 0.02932312 0.02932312 0.05864624 0.02932312\n",
            "  0.02932312 0.20526182 0.05864624 0.05864624 0.02932312 0.02932312\n",
            "  0.02932312 0.08796935 0.05864624 0.05864624 0.02932312 0.20526182\n",
            "  0.11729247 0.02932312 0.05864624 0.08796935 0.02932312 0.02932312\n",
            "  0.08796935 0.05864624 0.05864624 0.02932312 0.02932312 0.08796935\n",
            "  0.02932312 0.38120053 0.11729247 0.02932312 0.05864624 0.02932312\n",
            "  0.02932312 0.11729247 0.05864624 0.20526182 0.02932312 0.05864624\n",
            "  0.02932312 0.05864624 0.02932312 0.46916988 0.02932312 0.05864624\n",
            "  0.02932312 0.02932312 0.08796935 0.02932312 0.05864624 0.02932312\n",
            "  0.02932312 0.05864624 0.02932312 0.05864624]]\n",
            "\n",
            "Feature Names:\n",
            "['ai' 'akademik' 'artificial' 'bahas' 'banding' 'bangun' 'baru' 'beda'\n",
            " 'butuh' 'cepat' 'cloud' 'cocok' 'compiler' 'dapat' 'debugging' 'dekat'\n",
            " 'deployment' 'dominan' 'dukung' 'dunia' 'eager' 'efisiensi' 'ekosistem'\n",
            " 'eksekusi' 'eksperimen' 'engineer' 'execution' 'facebook' 'fitur'\n",
            " 'fleksibel' 'fleksibilitas' 'fokus' 'framework' 'google' 'graph' 'guna'\n",
            " 'ilmiah' 'impactful' 'industri' 'infrastruktur' 'intelligence' 'intuitif'\n",
            " 'journey' 'kembang' 'kode' 'kolom' 'komentar' 'kompleks' 'komunitas'\n",
            " 'kuasa' 'lambat' 'langsung' 'learning' 'lemah' 'lite' 'long' 'luas'\n",
            " 'machine' 'mari' 'matang' 'meta' 'milik' 'ml' 'mobile' 'mode' 'model'\n",
            " 'mudah' 'mutlak' 'optimal' 'optimasi' 'paham' 'paper' 'performa' 'pilih'\n",
            " 'populer' 'praktisi' 'processing' 'produksi' 'proyek' 'pytorch' 'riset'\n",
            " 'scalable' 'serving' 'sesuai' 'share' 'simpul' 'skala' 'software'\n",
            " 'stabil' 'static' 'suka' 'teliti' 'tensor' 'tensorflow' 'torchscript'\n",
            " 'tpu' 'training' 'ubah' 'unggul' 'unit' 'usaha' 'utama' 'vs' 'web' 'xla'\n",
            " 'yuk']\n"
          ]
        }
      ],
      "source": [
        "# Menampilkan hasil TF-IDF\n",
        "print(\"\\nTF-IDF Representation (Array):\")\n",
        "print(tfidf_matrix.toarray())\n",
        "\n",
        "# Menampilkan kata-kata fitur yang dipilih oleh TF-IDF\n",
        "print(\"\\nFeature Names:\")\n",
        "print(vectorizer.get_feature_names_out())"
      ]
    }
  ],
  "metadata": {
    "colab": {
      "provenance": []
    },
    "kernelspec": {
      "display_name": "Python 3.13.0 64-bit",
      "language": "python",
      "name": "python3"
    },
    "language_info": {
      "name": "python",
      "version": "3.13.0"
    },
    "vscode": {
      "interpreter": {
        "hash": "843c1de17762841d0e616048d4f068a5f973b47aad68285a698b9f96c05fe616"
      }
    }
  },
  "nbformat": 4,
  "nbformat_minor": 0
}
